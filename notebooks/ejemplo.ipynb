{
 "cells": [
  {
   "cell_type": "code",
   "execution_count": 1,
   "id": "5fb8509a",
   "metadata": {},
   "outputs": [
    {
     "data": {
      "text/html": [
       "<pre style=\"white-space:pre;overflow-x:auto;line-height:normal;font-family:Menlo,'DejaVu Sans Mono',consolas,'Courier New',monospace\"><span style=\"color: #7fbfbf; text-decoration-color: #7fbfbf\">[08/22/25 18:45:55] </span><span style=\"color: #000080; text-decoration-color: #000080\">INFO    </span> Using <span style=\"color: #008000; text-decoration-color: #008000\">'/Users/giocrisraigodoy/Documents/DUOC/Semestre_2025_2/Machine </span>  <span style=\"color: #7f7f7f; text-decoration-color: #7f7f7f\">__init__.py:270</span>\n",
       "<span style=\"color: #7fbfbf; text-decoration-color: #7fbfbf\">                    </span>         <span style=\"color: #008000; text-decoration-color: #008000\">Learning/spaceflights/.venv/lib/python3.12/site-packages/kedro/framewo</span> <span style=\"color: #7f7f7f; text-decoration-color: #7f7f7f\">               </span>\n",
       "<span style=\"color: #7fbfbf; text-decoration-color: #7fbfbf\">                    </span>         <span style=\"color: #008000; text-decoration-color: #008000\">rk/project/rich_logging.yml'</span> as logging configuration.                 <span style=\"color: #7f7f7f; text-decoration-color: #7f7f7f\">               </span>\n",
       "</pre>\n"
      ],
      "text/plain": [
       "\u001b[2;36m[08/22/25 18:45:55]\u001b[0m\u001b[2;36m \u001b[0m\u001b[34mINFO    \u001b[0m Using \u001b[32m'/Users/giocrisraigodoy/Documents/DUOC/Semestre_2025_2/Machine \u001b[0m  \u001b[2m__init__.py\u001b[0m\u001b[2m:\u001b[0m\u001b[2m270\u001b[0m\n",
       "\u001b[2;36m                    \u001b[0m         \u001b[32mLearning/spaceflights/.venv/lib/python3.12/site-packages/kedro/framewo\u001b[0m \u001b[2m               \u001b[0m\n",
       "\u001b[2;36m                    \u001b[0m         \u001b[32mrk/project/rich_logging.yml'\u001b[0m as logging configuration.                 \u001b[2m               \u001b[0m\n"
      ]
     },
     "metadata": {},
     "output_type": "display_data"
    },
    {
     "data": {
      "text/html": [
       "<pre style=\"white-space:pre;overflow-x:auto;line-height:normal;font-family:Menlo,'DejaVu Sans Mono',consolas,'Courier New',monospace\"><span style=\"color: #7fbfbf; text-decoration-color: #7fbfbf\">                    </span><span style=\"color: #000080; text-decoration-color: #000080\">INFO    </span> Registered line magic <span style=\"color: #008000; text-decoration-color: #008000\">'%reload_kedro'</span>                                   <span style=\"color: #7f7f7f; text-decoration-color: #7f7f7f\">__init__.py:63</span>\n",
       "</pre>\n"
      ],
      "text/plain": [
       "\u001b[2;36m                   \u001b[0m\u001b[2;36m \u001b[0m\u001b[34mINFO    \u001b[0m Registered line magic \u001b[32m'%reload_kedro'\u001b[0m                                   \u001b[2m__init__.py\u001b[0m\u001b[2m:\u001b[0m\u001b[2m63\u001b[0m\n"
      ]
     },
     "metadata": {},
     "output_type": "display_data"
    },
    {
     "data": {
      "text/html": [
       "<pre style=\"white-space:pre;overflow-x:auto;line-height:normal;font-family:Menlo,'DejaVu Sans Mono',consolas,'Courier New',monospace\"><span style=\"color: #7fbfbf; text-decoration-color: #7fbfbf\">                    </span><span style=\"color: #000080; text-decoration-color: #000080\">INFO    </span> Registered line magic <span style=\"color: #008000; text-decoration-color: #008000\">'%load_node'</span>                                      <span style=\"color: #7f7f7f; text-decoration-color: #7f7f7f\">__init__.py:65</span>\n",
       "</pre>\n"
      ],
      "text/plain": [
       "\u001b[2;36m                   \u001b[0m\u001b[2;36m \u001b[0m\u001b[34mINFO    \u001b[0m Registered line magic \u001b[32m'%load_node'\u001b[0m                                      \u001b[2m__init__.py\u001b[0m\u001b[2m:\u001b[0m\u001b[2m65\u001b[0m\n"
      ]
     },
     "metadata": {},
     "output_type": "display_data"
    },
    {
     "data": {
      "text/html": [
       "<pre style=\"white-space:pre;overflow-x:auto;line-height:normal;font-family:Menlo,'DejaVu Sans Mono',consolas,'Courier New',monospace\"><span style=\"color: #7fbfbf; text-decoration-color: #7fbfbf\">                    </span><span style=\"color: #000080; text-decoration-color: #000080\">INFO    </span> Resolved project path as:                                              <span style=\"color: #7f7f7f; text-decoration-color: #7f7f7f\">__init__.py:180</span>\n",
       "<span style=\"color: #7fbfbf; text-decoration-color: #7fbfbf\">                    </span>         <span style=\"color: #800080; text-decoration-color: #800080\">/Users/giocrisraigodoy/Documents/DUOC/Semestre_2025_2/</span><span style=\"color: #ff00ff; text-decoration-color: #ff00ff\">Machine</span>          <span style=\"color: #7f7f7f; text-decoration-color: #7f7f7f\">               </span>\n",
       "<span style=\"color: #7fbfbf; text-decoration-color: #7fbfbf\">                    </span>         Learning/spaceflights.                                                 <span style=\"color: #7f7f7f; text-decoration-color: #7f7f7f\">               </span>\n",
       "<span style=\"color: #7fbfbf; text-decoration-color: #7fbfbf\">                    </span>         To set a different path, run <span style=\"color: #008000; text-decoration-color: #008000\">'%reload_kedro &lt;project_root&gt;'</span>            <span style=\"color: #7f7f7f; text-decoration-color: #7f7f7f\">               </span>\n",
       "</pre>\n"
      ],
      "text/plain": [
       "\u001b[2;36m                   \u001b[0m\u001b[2;36m \u001b[0m\u001b[34mINFO    \u001b[0m Resolved project path as:                                              \u001b[2m__init__.py\u001b[0m\u001b[2m:\u001b[0m\u001b[2m180\u001b[0m\n",
       "\u001b[2;36m                    \u001b[0m         \u001b[35m/Users/giocrisraigodoy/Documents/DUOC/Semestre_2025_2/\u001b[0m\u001b[95mMachine\u001b[0m          \u001b[2m               \u001b[0m\n",
       "\u001b[2;36m                    \u001b[0m         Learning/spaceflights.                                                 \u001b[2m               \u001b[0m\n",
       "\u001b[2;36m                    \u001b[0m         To set a different path, run \u001b[32m'%reload_kedro \u001b[0m\u001b[32m<\u001b[0m\u001b[32mproject_root\u001b[0m\u001b[32m>\u001b[0m\u001b[32m'\u001b[0m            \u001b[2m               \u001b[0m\n"
      ]
     },
     "metadata": {},
     "output_type": "display_data"
    },
    {
     "data": {
      "text/html": [
       "<pre style=\"white-space:pre;overflow-x:auto;line-height:normal;font-family:Menlo,'DejaVu Sans Mono',consolas,'Courier New',monospace\"><span style=\"color: #7fbfbf; text-decoration-color: #7fbfbf\">[08/22/25 18:46:10] </span><span style=\"color: #000080; text-decoration-color: #000080\">INFO    </span> Kedro is sending anonymous usage data with the sole purpose of improving <span style=\"color: #7f7f7f; text-decoration-color: #7f7f7f\">plugin.py:233</span>\n",
       "<span style=\"color: #7fbfbf; text-decoration-color: #7fbfbf\">                    </span>         the product. No personal data or IP addresses are stored on our side. If <span style=\"color: #7f7f7f; text-decoration-color: #7f7f7f\">             </span>\n",
       "<span style=\"color: #7fbfbf; text-decoration-color: #7fbfbf\">                    </span>         you want to opt out, set the `KEDRO_DISABLE_TELEMETRY` or `DO_NOT_TRACK` <span style=\"color: #7f7f7f; text-decoration-color: #7f7f7f\">             </span>\n",
       "<span style=\"color: #7fbfbf; text-decoration-color: #7fbfbf\">                    </span>         environment variables, or create a `.telemetry` file in the current      <span style=\"color: #7f7f7f; text-decoration-color: #7f7f7f\">             </span>\n",
       "<span style=\"color: #7fbfbf; text-decoration-color: #7fbfbf\">                    </span>         working directory with the contents `consent: false`. Read more at       <span style=\"color: #7f7f7f; text-decoration-color: #7f7f7f\">             </span>\n",
       "<span style=\"color: #7fbfbf; text-decoration-color: #7fbfbf\">                    </span>         <span style=\"color: #0000ff; text-decoration-color: #0000ff; text-decoration: underline\">https://docs.kedro.org/en/stable/configuration/telemetry.html</span>            <span style=\"color: #7f7f7f; text-decoration-color: #7f7f7f\">             </span>\n",
       "</pre>\n"
      ],
      "text/plain": [
       "\u001b[2;36m[08/22/25 18:46:10]\u001b[0m\u001b[2;36m \u001b[0m\u001b[34mINFO    \u001b[0m Kedro is sending anonymous usage data with the sole purpose of improving \u001b[2mplugin.py\u001b[0m\u001b[2m:\u001b[0m\u001b[2m233\u001b[0m\n",
       "\u001b[2;36m                    \u001b[0m         the product. No personal data or IP addresses are stored on our side. If \u001b[2m             \u001b[0m\n",
       "\u001b[2;36m                    \u001b[0m         you want to opt out, set the `KEDRO_DISABLE_TELEMETRY` or `DO_NOT_TRACK` \u001b[2m             \u001b[0m\n",
       "\u001b[2;36m                    \u001b[0m         environment variables, or create a `.telemetry` file in the current      \u001b[2m             \u001b[0m\n",
       "\u001b[2;36m                    \u001b[0m         working directory with the contents `consent: false`. Read more at       \u001b[2m             \u001b[0m\n",
       "\u001b[2;36m                    \u001b[0m         \u001b[4;94mhttps://docs.kedro.org/en/stable/configuration/telemetry.html\u001b[0m            \u001b[2m             \u001b[0m\n"
      ]
     },
     "metadata": {},
     "output_type": "display_data"
    },
    {
     "data": {
      "text/html": [
       "<pre style=\"white-space:pre;overflow-x:auto;line-height:normal;font-family:Menlo,'DejaVu Sans Mono',consolas,'Courier New',monospace\"><span style=\"color: #7fbfbf; text-decoration-color: #7fbfbf\">                    </span><span style=\"color: #000080; text-decoration-color: #000080\">INFO    </span> Kedro project spaceflights                                             <span style=\"color: #7f7f7f; text-decoration-color: #7f7f7f\">__init__.py:146</span>\n",
       "</pre>\n"
      ],
      "text/plain": [
       "\u001b[2;36m                   \u001b[0m\u001b[2;36m \u001b[0m\u001b[34mINFO    \u001b[0m Kedro project spaceflights                                             \u001b[2m__init__.py\u001b[0m\u001b[2m:\u001b[0m\u001b[2m146\u001b[0m\n"
      ]
     },
     "metadata": {},
     "output_type": "display_data"
    },
    {
     "data": {
      "text/html": [
       "<pre style=\"white-space:pre;overflow-x:auto;line-height:normal;font-family:Menlo,'DejaVu Sans Mono',consolas,'Courier New',monospace\"><span style=\"color: #7fbfbf; text-decoration-color: #7fbfbf\">                    </span><span style=\"color: #000080; text-decoration-color: #000080\">INFO    </span> Defined global variable <span style=\"color: #008000; text-decoration-color: #008000\">'context'</span>, <span style=\"color: #008000; text-decoration-color: #008000\">'session'</span>, <span style=\"color: #008000; text-decoration-color: #008000\">'catalog'</span> and            <span style=\"color: #7f7f7f; text-decoration-color: #7f7f7f\">__init__.py:147</span>\n",
       "<span style=\"color: #7fbfbf; text-decoration-color: #7fbfbf\">                    </span>         <span style=\"color: #008000; text-decoration-color: #008000\">'pipelines'</span>                                                            <span style=\"color: #7f7f7f; text-decoration-color: #7f7f7f\">               </span>\n",
       "</pre>\n"
      ],
      "text/plain": [
       "\u001b[2;36m                   \u001b[0m\u001b[2;36m \u001b[0m\u001b[34mINFO    \u001b[0m Defined global variable \u001b[32m'context'\u001b[0m, \u001b[32m'session'\u001b[0m, \u001b[32m'catalog'\u001b[0m and            \u001b[2m__init__.py\u001b[0m\u001b[2m:\u001b[0m\u001b[2m147\u001b[0m\n",
       "\u001b[2;36m                    \u001b[0m         \u001b[32m'pipelines'\u001b[0m                                                            \u001b[2m               \u001b[0m\n"
      ]
     },
     "metadata": {},
     "output_type": "display_data"
    },
    {
     "data": {
      "text/html": [
       "<pre style=\"white-space:pre;overflow-x:auto;line-height:normal;font-family:Menlo,'DejaVu Sans Mono',consolas,'Courier New',monospace\"><span style=\"color: #7fbfbf; text-decoration-color: #7fbfbf\">[08/22/25 18:46:11] </span><span style=\"color: #000080; text-decoration-color: #000080\">INFO    </span> Registered line magic <span style=\"color: #008000; text-decoration-color: #008000\">'run_viz'</span>                                        <span style=\"color: #7f7f7f; text-decoration-color: #7f7f7f\">__init__.py:153</span>\n",
       "</pre>\n"
      ],
      "text/plain": [
       "\u001b[2;36m[08/22/25 18:46:11]\u001b[0m\u001b[2;36m \u001b[0m\u001b[34mINFO    \u001b[0m Registered line magic \u001b[32m'run_viz'\u001b[0m                                        \u001b[2m__init__.py\u001b[0m\u001b[2m:\u001b[0m\u001b[2m153\u001b[0m\n"
      ]
     },
     "metadata": {},
     "output_type": "display_data"
    }
   ],
   "source": [
    "%load_ext kedro.ipython"
   ]
  },
  {
   "cell_type": "code",
   "execution_count": 2,
   "id": "9b6a4204-8776-49fe-b6c9-3b894be6a2ec",
   "metadata": {},
   "outputs": [
    {
     "data": {
      "text/html": [
       "<pre style=\"white-space:pre;overflow-x:auto;line-height:normal;font-family:Menlo,'DejaVu Sans Mono',consolas,'Courier New',monospace\"></pre>\n"
      ],
      "text/plain": []
     },
     "metadata": {},
     "output_type": "display_data"
    },
    {
     "data": {
      "text/plain": [
       "\n",
       "\u001b[1m[\u001b[0m\n",
       "    \u001b[32m'companies'\u001b[0m,\n",
       "    \u001b[32m'reviews'\u001b[0m,\n",
       "    \u001b[32m'shuttles'\u001b[0m,\n",
       "    \u001b[32m'preprocessed_companies'\u001b[0m,\n",
       "    \u001b[32m'preprocessed_shuttles'\u001b[0m,\n",
       "    \u001b[32m'model_input_table'\u001b[0m,\n",
       "    \u001b[32m'regressor'\u001b[0m,\n",
       "    \u001b[32m'shuttle_passenger_capacity_plot_exp'\u001b[0m,\n",
       "    \u001b[32m'shuttle_passenger_capacity_plot_go'\u001b[0m,\n",
       "    \u001b[32m'dummy_confusion_matrix'\u001b[0m,\n",
       "    \u001b[32m'parameters'\u001b[0m,\n",
       "    \u001b[32m'params:model_options'\u001b[0m,\n",
       "    \u001b[32m'params:model_options.test_size'\u001b[0m,\n",
       "    \u001b[32m'params:model_options.random_state'\u001b[0m,\n",
       "    \u001b[32m'params:model_options.features'\u001b[0m\n",
       "\u001b[1m]\u001b[0m"
      ]
     },
     "execution_count": 2,
     "metadata": {},
     "output_type": "execute_result"
    }
   ],
   "source": [
    "catalog.keys()"
   ]
  },
  {
   "cell_type": "code",
   "execution_count": 3,
   "id": "d338008b-593e-407f-ac98-0f90fef4bc47",
   "metadata": {},
   "outputs": [
    {
     "data": {
      "text/html": [
       "<pre style=\"white-space:pre;overflow-x:auto;line-height:normal;font-family:Menlo,'DejaVu Sans Mono',consolas,'Courier New',monospace\"><span style=\"color: #7fbfbf; text-decoration-color: #7fbfbf\">[08/22/25 18:47:43] </span><span style=\"color: #000080; text-decoration-color: #000080\">INFO    </span> Loading data from <span style=\"color: #ff8700; text-decoration-color: #ff8700\">companies</span> <span style=\"font-weight: bold\">(</span>CSVDataset<span style=\"font-weight: bold\">)</span><span style=\"color: #808000; text-decoration-color: #808000\">...</span>                       <span style=\"color: #7f7f7f; text-decoration-color: #7f7f7f\">data_catalog.py:1046</span>\n",
       "</pre>\n"
      ],
      "text/plain": [
       "\u001b[2;36m[08/22/25 18:47:43]\u001b[0m\u001b[2;36m \u001b[0m\u001b[34mINFO    \u001b[0m Loading data from \u001b[38;5;208mcompanies\u001b[0m \u001b[1m(\u001b[0mCSVDataset\u001b[1m)\u001b[0m\u001b[33m...\u001b[0m                       \u001b[2mdata_catalog.py\u001b[0m\u001b[2m:\u001b[0m\u001b[2m1046\u001b[0m\n"
      ]
     },
     "metadata": {},
     "output_type": "display_data"
    },
    {
     "data": {
      "text/html": [
       "<pre style=\"white-space:pre;overflow-x:auto;line-height:normal;font-family:Menlo,'DejaVu Sans Mono',consolas,'Courier New',monospace\"></pre>\n"
      ],
      "text/plain": []
     },
     "metadata": {},
     "output_type": "display_data"
    },
    {
     "data": {
      "text/html": [
       "<div>\n",
       "<style scoped>\n",
       "    .dataframe tbody tr th:only-of-type {\n",
       "        vertical-align: middle;\n",
       "    }\n",
       "\n",
       "    .dataframe tbody tr th {\n",
       "        vertical-align: top;\n",
       "    }\n",
       "\n",
       "    .dataframe thead th {\n",
       "        text-align: right;\n",
       "    }\n",
       "</style>\n",
       "<table border=\"1\" class=\"dataframe\">\n",
       "  <thead>\n",
       "    <tr style=\"text-align: right;\">\n",
       "      <th></th>\n",
       "      <th>id</th>\n",
       "      <th>company_rating</th>\n",
       "      <th>company_location</th>\n",
       "      <th>total_fleet_count</th>\n",
       "      <th>iata_approved</th>\n",
       "    </tr>\n",
       "  </thead>\n",
       "  <tbody>\n",
       "    <tr>\n",
       "      <th>0</th>\n",
       "      <td>3888</td>\n",
       "      <td>100%</td>\n",
       "      <td>Isle of Man</td>\n",
       "      <td>1.0</td>\n",
       "      <td>f</td>\n",
       "    </tr>\n",
       "    <tr>\n",
       "      <th>1</th>\n",
       "      <td>46728</td>\n",
       "      <td>100%</td>\n",
       "      <td>NaN</td>\n",
       "      <td>1.0</td>\n",
       "      <td>f</td>\n",
       "    </tr>\n",
       "    <tr>\n",
       "      <th>2</th>\n",
       "      <td>34618</td>\n",
       "      <td>38%</td>\n",
       "      <td>Isle of Man</td>\n",
       "      <td>1.0</td>\n",
       "      <td>f</td>\n",
       "    </tr>\n",
       "    <tr>\n",
       "      <th>3</th>\n",
       "      <td>28619</td>\n",
       "      <td>100%</td>\n",
       "      <td>Bosnia and Herzegovina</td>\n",
       "      <td>1.0</td>\n",
       "      <td>f</td>\n",
       "    </tr>\n",
       "    <tr>\n",
       "      <th>4</th>\n",
       "      <td>8240</td>\n",
       "      <td>NaN</td>\n",
       "      <td>Chile</td>\n",
       "      <td>1.0</td>\n",
       "      <td>t</td>\n",
       "    </tr>\n",
       "    <tr>\n",
       "      <th>...</th>\n",
       "      <td>...</td>\n",
       "      <td>...</td>\n",
       "      <td>...</td>\n",
       "      <td>...</td>\n",
       "      <td>...</td>\n",
       "    </tr>\n",
       "    <tr>\n",
       "      <th>10014</th>\n",
       "      <td>20213</td>\n",
       "      <td>NaN</td>\n",
       "      <td>Russian Federation</td>\n",
       "      <td>1.0</td>\n",
       "      <td>f</td>\n",
       "    </tr>\n",
       "    <tr>\n",
       "      <th>10015</th>\n",
       "      <td>2235</td>\n",
       "      <td>100%</td>\n",
       "      <td>Guinea</td>\n",
       "      <td>1.0</td>\n",
       "      <td>f</td>\n",
       "    </tr>\n",
       "    <tr>\n",
       "      <th>10016</th>\n",
       "      <td>2353</td>\n",
       "      <td>100%</td>\n",
       "      <td>Senegal</td>\n",
       "      <td>2.0</td>\n",
       "      <td>t</td>\n",
       "    </tr>\n",
       "    <tr>\n",
       "      <th>10017</th>\n",
       "      <td>49772</td>\n",
       "      <td>100%</td>\n",
       "      <td>Jersey</td>\n",
       "      <td>1.0</td>\n",
       "      <td>f</td>\n",
       "    </tr>\n",
       "    <tr>\n",
       "      <th>10018</th>\n",
       "      <td>16548</td>\n",
       "      <td>90%</td>\n",
       "      <td>NaN</td>\n",
       "      <td>2.0</td>\n",
       "      <td>f</td>\n",
       "    </tr>\n",
       "  </tbody>\n",
       "</table>\n",
       "<p>10019 rows × 5 columns</p>\n",
       "</div>"
      ],
      "text/plain": [
       "\n",
       "          id company_rating        company_location  total_fleet_count  \\\n",
       "\u001b[1;36m0\u001b[0m       \u001b[1;36m3888\u001b[0m           \u001b[1;36m100\u001b[0m%             Isle of Man                \u001b[1;36m1.0\u001b[0m   \n",
       "\u001b[1;36m1\u001b[0m      \u001b[1;36m46728\u001b[0m           \u001b[1;36m100\u001b[0m%                     NaN                \u001b[1;36m1.0\u001b[0m   \n",
       "\u001b[1;36m2\u001b[0m      \u001b[1;36m34618\u001b[0m            \u001b[1;36m38\u001b[0m%             Isle of Man                \u001b[1;36m1.0\u001b[0m   \n",
       "\u001b[1;36m3\u001b[0m      \u001b[1;36m28619\u001b[0m           \u001b[1;36m100\u001b[0m%  Bosnia and Herzegovina                \u001b[1;36m1.0\u001b[0m   \n",
       "\u001b[1;36m4\u001b[0m       \u001b[1;36m8240\u001b[0m            NaN                   Chile                \u001b[1;36m1.0\u001b[0m   \n",
       "\u001b[33m...\u001b[0m      \u001b[33m...\u001b[0m            \u001b[33m...\u001b[0m                     \u001b[33m...\u001b[0m                \u001b[33m...\u001b[0m   \n",
       "\u001b[1;36m10014\u001b[0m  \u001b[1;36m20213\u001b[0m            NaN      Russian Federation                \u001b[1;36m1.0\u001b[0m   \n",
       "\u001b[1;36m10015\u001b[0m   \u001b[1;36m2235\u001b[0m           \u001b[1;36m100\u001b[0m%                  Guinea                \u001b[1;36m1.0\u001b[0m   \n",
       "\u001b[1;36m10016\u001b[0m   \u001b[1;36m2353\u001b[0m           \u001b[1;36m100\u001b[0m%                 Senegal                \u001b[1;36m2.0\u001b[0m   \n",
       "\u001b[1;36m10017\u001b[0m  \u001b[1;36m49772\u001b[0m           \u001b[1;36m100\u001b[0m%                  Jersey                \u001b[1;36m1.0\u001b[0m   \n",
       "\u001b[1;36m10018\u001b[0m  \u001b[1;36m16548\u001b[0m            \u001b[1;36m90\u001b[0m%                     NaN                \u001b[1;36m2.0\u001b[0m   \n",
       "\n",
       "      iata_approved  \n",
       "\u001b[1;36m0\u001b[0m                 f  \n",
       "\u001b[1;36m1\u001b[0m                 f  \n",
       "\u001b[1;36m2\u001b[0m                 f  \n",
       "\u001b[1;36m3\u001b[0m                 f  \n",
       "\u001b[1;36m4\u001b[0m                 t  \n",
       "\u001b[33m...\u001b[0m             \u001b[33m...\u001b[0m  \n",
       "\u001b[1;36m10014\u001b[0m             f  \n",
       "\u001b[1;36m10015\u001b[0m             f  \n",
       "\u001b[1;36m10016\u001b[0m             t  \n",
       "\u001b[1;36m10017\u001b[0m             f  \n",
       "\u001b[1;36m10018\u001b[0m             f  \n",
       "\n",
       "\u001b[1m[\u001b[0m\u001b[1;36m10019\u001b[0m rows x \u001b[1;36m5\u001b[0m columns\u001b[1m]\u001b[0m"
      ]
     },
     "execution_count": 3,
     "metadata": {},
     "output_type": "execute_result"
    }
   ],
   "source": [
    "catalog.load('companies')"
   ]
  },
  {
   "cell_type": "code",
   "execution_count": 4,
   "id": "81d71611-1093-4609-8863-0f60d852744d",
   "metadata": {},
   "outputs": [
    {
     "data": {
      "text/html": [
       "<pre style=\"white-space:pre;overflow-x:auto;line-height:normal;font-family:Menlo,'DejaVu Sans Mono',consolas,'Courier New',monospace\"><span style=\"color: #7fbfbf; text-decoration-color: #7fbfbf\">[08/22/25 18:48:33] </span><span style=\"color: #000080; text-decoration-color: #000080\">INFO    </span> Loading data from <span style=\"color: #ff8700; text-decoration-color: #ff8700\">companies</span> <span style=\"font-weight: bold\">(</span>CSVDataset<span style=\"font-weight: bold\">)</span><span style=\"color: #808000; text-decoration-color: #808000\">...</span>                       <span style=\"color: #7f7f7f; text-decoration-color: #7f7f7f\">data_catalog.py:1046</span>\n",
       "</pre>\n"
      ],
      "text/plain": [
       "\u001b[2;36m[08/22/25 18:48:33]\u001b[0m\u001b[2;36m \u001b[0m\u001b[34mINFO    \u001b[0m Loading data from \u001b[38;5;208mcompanies\u001b[0m \u001b[1m(\u001b[0mCSVDataset\u001b[1m)\u001b[0m\u001b[33m...\u001b[0m                       \u001b[2mdata_catalog.py\u001b[0m\u001b[2m:\u001b[0m\u001b[2m1046\u001b[0m\n"
      ]
     },
     "metadata": {},
     "output_type": "display_data"
    }
   ],
   "source": [
    "companies_df = catalog.load('companies')"
   ]
  },
  {
   "cell_type": "code",
   "execution_count": 5,
   "id": "44c52d01-821d-4740-8102-4684ffa3d92a",
   "metadata": {},
   "outputs": [
    {
     "data": {
      "text/html": [
       "<pre style=\"white-space:pre;overflow-x:auto;line-height:normal;font-family:Menlo,'DejaVu Sans Mono',consolas,'Courier New',monospace\"></pre>\n"
      ],
      "text/plain": []
     },
     "metadata": {},
     "output_type": "display_data"
    },
    {
     "data": {
      "text/html": [
       "<div>\n",
       "<style scoped>\n",
       "    .dataframe tbody tr th:only-of-type {\n",
       "        vertical-align: middle;\n",
       "    }\n",
       "\n",
       "    .dataframe tbody tr th {\n",
       "        vertical-align: top;\n",
       "    }\n",
       "\n",
       "    .dataframe thead th {\n",
       "        text-align: right;\n",
       "    }\n",
       "</style>\n",
       "<table border=\"1\" class=\"dataframe\">\n",
       "  <thead>\n",
       "    <tr style=\"text-align: right;\">\n",
       "      <th></th>\n",
       "      <th>id</th>\n",
       "      <th>company_rating</th>\n",
       "      <th>company_location</th>\n",
       "      <th>total_fleet_count</th>\n",
       "      <th>iata_approved</th>\n",
       "    </tr>\n",
       "  </thead>\n",
       "  <tbody>\n",
       "    <tr>\n",
       "      <th>0</th>\n",
       "      <td>3888</td>\n",
       "      <td>100%</td>\n",
       "      <td>Isle of Man</td>\n",
       "      <td>1.0</td>\n",
       "      <td>f</td>\n",
       "    </tr>\n",
       "    <tr>\n",
       "      <th>1</th>\n",
       "      <td>46728</td>\n",
       "      <td>100%</td>\n",
       "      <td>NaN</td>\n",
       "      <td>1.0</td>\n",
       "      <td>f</td>\n",
       "    </tr>\n",
       "    <tr>\n",
       "      <th>2</th>\n",
       "      <td>34618</td>\n",
       "      <td>38%</td>\n",
       "      <td>Isle of Man</td>\n",
       "      <td>1.0</td>\n",
       "      <td>f</td>\n",
       "    </tr>\n",
       "    <tr>\n",
       "      <th>3</th>\n",
       "      <td>28619</td>\n",
       "      <td>100%</td>\n",
       "      <td>Bosnia and Herzegovina</td>\n",
       "      <td>1.0</td>\n",
       "      <td>f</td>\n",
       "    </tr>\n",
       "    <tr>\n",
       "      <th>4</th>\n",
       "      <td>8240</td>\n",
       "      <td>NaN</td>\n",
       "      <td>Chile</td>\n",
       "      <td>1.0</td>\n",
       "      <td>t</td>\n",
       "    </tr>\n",
       "  </tbody>\n",
       "</table>\n",
       "</div>"
      ],
      "text/plain": [
       "\n",
       "      id company_rating        company_location  total_fleet_count  \\\n",
       "\u001b[1;36m0\u001b[0m   \u001b[1;36m3888\u001b[0m           \u001b[1;36m100\u001b[0m%             Isle of Man                \u001b[1;36m1.0\u001b[0m   \n",
       "\u001b[1;36m1\u001b[0m  \u001b[1;36m46728\u001b[0m           \u001b[1;36m100\u001b[0m%                     NaN                \u001b[1;36m1.0\u001b[0m   \n",
       "\u001b[1;36m2\u001b[0m  \u001b[1;36m34618\u001b[0m            \u001b[1;36m38\u001b[0m%             Isle of Man                \u001b[1;36m1.0\u001b[0m   \n",
       "\u001b[1;36m3\u001b[0m  \u001b[1;36m28619\u001b[0m           \u001b[1;36m100\u001b[0m%  Bosnia and Herzegovina                \u001b[1;36m1.0\u001b[0m   \n",
       "\u001b[1;36m4\u001b[0m   \u001b[1;36m8240\u001b[0m            NaN                   Chile                \u001b[1;36m1.0\u001b[0m   \n",
       "\n",
       "  iata_approved  \n",
       "\u001b[1;36m0\u001b[0m             f  \n",
       "\u001b[1;36m1\u001b[0m             f  \n",
       "\u001b[1;36m2\u001b[0m             f  \n",
       "\u001b[1;36m3\u001b[0m             f  \n",
       "\u001b[1;36m4\u001b[0m             t  "
      ]
     },
     "execution_count": 5,
     "metadata": {},
     "output_type": "execute_result"
    }
   ],
   "source": [
    "companies_df.head()"
   ]
  },
  {
   "cell_type": "code",
   "execution_count": 6,
   "id": "64fe6bbe-6169-4eed-a34a-caaba9895ac8",
   "metadata": {},
   "outputs": [
    {
     "data": {
      "text/html": [
       "<pre style=\"white-space:pre;overflow-x:auto;line-height:normal;font-family:Menlo,'DejaVu Sans Mono',consolas,'Courier New',monospace\"></pre>\n"
      ],
      "text/plain": []
     },
     "metadata": {},
     "output_type": "display_data"
    },
    {
     "data": {
      "text/html": [
       "<div>\n",
       "<style scoped>\n",
       "    .dataframe tbody tr th:only-of-type {\n",
       "        vertical-align: middle;\n",
       "    }\n",
       "\n",
       "    .dataframe tbody tr th {\n",
       "        vertical-align: top;\n",
       "    }\n",
       "\n",
       "    .dataframe thead th {\n",
       "        text-align: right;\n",
       "    }\n",
       "</style>\n",
       "<table border=\"1\" class=\"dataframe\">\n",
       "  <thead>\n",
       "    <tr style=\"text-align: right;\">\n",
       "      <th></th>\n",
       "      <th>id</th>\n",
       "      <th>company_rating</th>\n",
       "      <th>company_location</th>\n",
       "      <th>total_fleet_count</th>\n",
       "      <th>iata_approved</th>\n",
       "    </tr>\n",
       "  </thead>\n",
       "  <tbody>\n",
       "    <tr>\n",
       "      <th>10014</th>\n",
       "      <td>20213</td>\n",
       "      <td>NaN</td>\n",
       "      <td>Russian Federation</td>\n",
       "      <td>1.0</td>\n",
       "      <td>f</td>\n",
       "    </tr>\n",
       "    <tr>\n",
       "      <th>10015</th>\n",
       "      <td>2235</td>\n",
       "      <td>100%</td>\n",
       "      <td>Guinea</td>\n",
       "      <td>1.0</td>\n",
       "      <td>f</td>\n",
       "    </tr>\n",
       "    <tr>\n",
       "      <th>10016</th>\n",
       "      <td>2353</td>\n",
       "      <td>100%</td>\n",
       "      <td>Senegal</td>\n",
       "      <td>2.0</td>\n",
       "      <td>t</td>\n",
       "    </tr>\n",
       "    <tr>\n",
       "      <th>10017</th>\n",
       "      <td>49772</td>\n",
       "      <td>100%</td>\n",
       "      <td>Jersey</td>\n",
       "      <td>1.0</td>\n",
       "      <td>f</td>\n",
       "    </tr>\n",
       "    <tr>\n",
       "      <th>10018</th>\n",
       "      <td>16548</td>\n",
       "      <td>90%</td>\n",
       "      <td>NaN</td>\n",
       "      <td>2.0</td>\n",
       "      <td>f</td>\n",
       "    </tr>\n",
       "  </tbody>\n",
       "</table>\n",
       "</div>"
      ],
      "text/plain": [
       "\n",
       "          id company_rating    company_location  total_fleet_count  \\\n",
       "\u001b[1;36m10014\u001b[0m  \u001b[1;36m20213\u001b[0m            NaN  Russian Federation                \u001b[1;36m1.0\u001b[0m   \n",
       "\u001b[1;36m10015\u001b[0m   \u001b[1;36m2235\u001b[0m           \u001b[1;36m100\u001b[0m%              Guinea                \u001b[1;36m1.0\u001b[0m   \n",
       "\u001b[1;36m10016\u001b[0m   \u001b[1;36m2353\u001b[0m           \u001b[1;36m100\u001b[0m%             Senegal                \u001b[1;36m2.0\u001b[0m   \n",
       "\u001b[1;36m10017\u001b[0m  \u001b[1;36m49772\u001b[0m           \u001b[1;36m100\u001b[0m%              Jersey                \u001b[1;36m1.0\u001b[0m   \n",
       "\u001b[1;36m10018\u001b[0m  \u001b[1;36m16548\u001b[0m            \u001b[1;36m90\u001b[0m%                 NaN                \u001b[1;36m2.0\u001b[0m   \n",
       "\n",
       "      iata_approved  \n",
       "\u001b[1;36m10014\u001b[0m             f  \n",
       "\u001b[1;36m10015\u001b[0m             f  \n",
       "\u001b[1;36m10016\u001b[0m             t  \n",
       "\u001b[1;36m10017\u001b[0m             f  \n",
       "\u001b[1;36m10018\u001b[0m             f  "
      ]
     },
     "execution_count": 6,
     "metadata": {},
     "output_type": "execute_result"
    }
   ],
   "source": [
    "companies_df.tail()"
   ]
  },
  {
   "cell_type": "code",
   "execution_count": 7,
   "id": "a2e5f8b9-1aa9-4ed3-af97-e519e82f6a6b",
   "metadata": {},
   "outputs": [
    {
     "data": {
      "text/html": [
       "<pre style=\"white-space:pre;overflow-x:auto;line-height:normal;font-family:Menlo,'DejaVu Sans Mono',consolas,'Courier New',monospace\"></pre>\n"
      ],
      "text/plain": []
     },
     "metadata": {},
     "output_type": "display_data"
    },
    {
     "data": {
      "text/html": [
       "<div>\n",
       "<style scoped>\n",
       "    .dataframe tbody tr th:only-of-type {\n",
       "        vertical-align: middle;\n",
       "    }\n",
       "\n",
       "    .dataframe tbody tr th {\n",
       "        vertical-align: top;\n",
       "    }\n",
       "\n",
       "    .dataframe thead th {\n",
       "        text-align: right;\n",
       "    }\n",
       "</style>\n",
       "<table border=\"1\" class=\"dataframe\">\n",
       "  <thead>\n",
       "    <tr style=\"text-align: right;\">\n",
       "      <th></th>\n",
       "      <th>id</th>\n",
       "      <th>total_fleet_count</th>\n",
       "    </tr>\n",
       "  </thead>\n",
       "  <tbody>\n",
       "    <tr>\n",
       "      <th>count</th>\n",
       "      <td>10019.000000</td>\n",
       "      <td>10017.000000</td>\n",
       "    </tr>\n",
       "    <tr>\n",
       "      <th>mean</th>\n",
       "      <td>25038.690788</td>\n",
       "      <td>1.844464</td>\n",
       "    </tr>\n",
       "    <tr>\n",
       "      <th>std</th>\n",
       "      <td>14445.346466</td>\n",
       "      <td>12.446153</td>\n",
       "    </tr>\n",
       "    <tr>\n",
       "      <th>min</th>\n",
       "      <td>1.000000</td>\n",
       "      <td>1.000000</td>\n",
       "    </tr>\n",
       "    <tr>\n",
       "      <th>25%</th>\n",
       "      <td>12610.000000</td>\n",
       "      <td>1.000000</td>\n",
       "    </tr>\n",
       "    <tr>\n",
       "      <th>50%</th>\n",
       "      <td>24858.000000</td>\n",
       "      <td>1.000000</td>\n",
       "    </tr>\n",
       "    <tr>\n",
       "      <th>75%</th>\n",
       "      <td>37547.000000</td>\n",
       "      <td>1.000000</td>\n",
       "    </tr>\n",
       "    <tr>\n",
       "      <th>max</th>\n",
       "      <td>50098.000000</td>\n",
       "      <td>1105.000000</td>\n",
       "    </tr>\n",
       "  </tbody>\n",
       "</table>\n",
       "</div>"
      ],
      "text/plain": [
       "\n",
       "                 id  total_fleet_count\n",
       "count  \u001b[1;36m10019.000000\u001b[0m       \u001b[1;36m10017.000000\u001b[0m\n",
       "mean   \u001b[1;36m25038.690788\u001b[0m           \u001b[1;36m1.844464\u001b[0m\n",
       "std    \u001b[1;36m14445.346466\u001b[0m          \u001b[1;36m12.446153\u001b[0m\n",
       "min        \u001b[1;36m1.000000\u001b[0m           \u001b[1;36m1.000000\u001b[0m\n",
       "\u001b[1;36m25\u001b[0m%    \u001b[1;36m12610.000000\u001b[0m           \u001b[1;36m1.000000\u001b[0m\n",
       "\u001b[1;36m50\u001b[0m%    \u001b[1;36m24858.000000\u001b[0m           \u001b[1;36m1.000000\u001b[0m\n",
       "\u001b[1;36m75\u001b[0m%    \u001b[1;36m37547.000000\u001b[0m           \u001b[1;36m1.000000\u001b[0m\n",
       "max    \u001b[1;36m50098.000000\u001b[0m        \u001b[1;36m1105.000000\u001b[0m"
      ]
     },
     "execution_count": 7,
     "metadata": {},
     "output_type": "execute_result"
    }
   ],
   "source": [
    "companies_df.describe()"
   ]
  },
  {
   "cell_type": "code",
   "execution_count": 9,
   "id": "24e4e4b7-8467-4c5f-9d9a-5d439ba9b1e8",
   "metadata": {},
   "outputs": [],
   "source": [
    "import pandas as pd"
   ]
  },
  {
   "cell_type": "code",
   "execution_count": 10,
   "id": "97b1d58e-5b6f-4d8f-8333-9d416a018881",
   "metadata": {},
   "outputs": [],
   "source": [
    "def _is_true(x: pd.Series) -> pd.Series:\n",
    "    return x == \"t\""
   ]
  },
  {
   "cell_type": "code",
   "execution_count": 11,
   "id": "620adb23-0231-4c6b-8189-67dcde60101d",
   "metadata": {},
   "outputs": [
    {
     "data": {
      "text/html": [
       "<pre style=\"white-space:pre;overflow-x:auto;line-height:normal;font-family:Menlo,'DejaVu Sans Mono',consolas,'Courier New',monospace\"></pre>\n"
      ],
      "text/plain": []
     },
     "metadata": {},
     "output_type": "display_data"
    },
    {
     "data": {
      "text/plain": [
       "\n",
       "\u001b[1;36m0\u001b[0m        f\n",
       "\u001b[1;36m1\u001b[0m        f\n",
       "\u001b[1;36m2\u001b[0m        f\n",
       "\u001b[1;36m3\u001b[0m        f\n",
       "\u001b[1;36m4\u001b[0m        t\n",
       "        ..\n",
       "\u001b[1;36m10014\u001b[0m    f\n",
       "\u001b[1;36m10015\u001b[0m    f\n",
       "\u001b[1;36m10016\u001b[0m    t\n",
       "\u001b[1;36m10017\u001b[0m    f\n",
       "\u001b[1;36m10018\u001b[0m    f\n",
       "Name: iata_approved, Length: \u001b[1;36m10019\u001b[0m, dtype: object"
      ]
     },
     "execution_count": 11,
     "metadata": {},
     "output_type": "execute_result"
    }
   ],
   "source": [
    "companies_df[\"iata_approved\"]"
   ]
  },
  {
   "cell_type": "code",
   "execution_count": 12,
   "id": "dfd8631f-e61b-4c77-bc38-c3a26f321a76",
   "metadata": {},
   "outputs": [
    {
     "data": {
      "text/html": [
       "<pre style=\"white-space:pre;overflow-x:auto;line-height:normal;font-family:Menlo,'DejaVu Sans Mono',consolas,'Courier New',monospace\"></pre>\n"
      ],
      "text/plain": []
     },
     "metadata": {},
     "output_type": "display_data"
    },
    {
     "data": {
      "text/plain": [
       "\n",
       "\u001b[1;36m0\u001b[0m        \u001b[3;91mFalse\u001b[0m\n",
       "\u001b[1;36m1\u001b[0m        \u001b[3;91mFalse\u001b[0m\n",
       "\u001b[1;36m2\u001b[0m        \u001b[3;91mFalse\u001b[0m\n",
       "\u001b[1;36m3\u001b[0m        \u001b[3;91mFalse\u001b[0m\n",
       "\u001b[1;36m4\u001b[0m         \u001b[3;92mTrue\u001b[0m\n",
       "         \u001b[33m...\u001b[0m  \n",
       "\u001b[1;36m10014\u001b[0m    \u001b[3;91mFalse\u001b[0m\n",
       "\u001b[1;36m10015\u001b[0m    \u001b[3;91mFalse\u001b[0m\n",
       "\u001b[1;36m10016\u001b[0m     \u001b[3;92mTrue\u001b[0m\n",
       "\u001b[1;36m10017\u001b[0m    \u001b[3;91mFalse\u001b[0m\n",
       "\u001b[1;36m10018\u001b[0m    \u001b[3;91mFalse\u001b[0m\n",
       "Name: iata_approved, Length: \u001b[1;36m10019\u001b[0m, dtype: bool"
      ]
     },
     "execution_count": 12,
     "metadata": {},
     "output_type": "execute_result"
    }
   ],
   "source": [
    "_is_true(companies_df[\"iata_approved\"])"
   ]
  },
  {
   "cell_type": "code",
   "execution_count": 13,
   "id": "f32c3b8f-a724-47c9-af56-ea340dce87b8",
   "metadata": {},
   "outputs": [],
   "source": [
    "companies_df[\"iata_approved\"] = _is_true(companies_df[\"iata_approved\"])"
   ]
  },
  {
   "cell_type": "code",
   "execution_count": 14,
   "id": "c902c051-9a5e-4d4d-b987-69568bb2251b",
   "metadata": {},
   "outputs": [
    {
     "data": {
      "text/html": [
       "<pre style=\"white-space:pre;overflow-x:auto;line-height:normal;font-family:Menlo,'DejaVu Sans Mono',consolas,'Courier New',monospace\"></pre>\n"
      ],
      "text/plain": []
     },
     "metadata": {},
     "output_type": "display_data"
    },
    {
     "data": {
      "text/plain": [
       "\n",
       "\u001b[1;36m0\u001b[0m        \u001b[3;91mFalse\u001b[0m\n",
       "\u001b[1;36m1\u001b[0m        \u001b[3;91mFalse\u001b[0m\n",
       "\u001b[1;36m2\u001b[0m        \u001b[3;91mFalse\u001b[0m\n",
       "\u001b[1;36m3\u001b[0m        \u001b[3;91mFalse\u001b[0m\n",
       "\u001b[1;36m4\u001b[0m         \u001b[3;92mTrue\u001b[0m\n",
       "         \u001b[33m...\u001b[0m  \n",
       "\u001b[1;36m10014\u001b[0m    \u001b[3;91mFalse\u001b[0m\n",
       "\u001b[1;36m10015\u001b[0m    \u001b[3;91mFalse\u001b[0m\n",
       "\u001b[1;36m10016\u001b[0m     \u001b[3;92mTrue\u001b[0m\n",
       "\u001b[1;36m10017\u001b[0m    \u001b[3;91mFalse\u001b[0m\n",
       "\u001b[1;36m10018\u001b[0m    \u001b[3;91mFalse\u001b[0m\n",
       "Name: iata_approved, Length: \u001b[1;36m10019\u001b[0m, dtype: bool"
      ]
     },
     "execution_count": 14,
     "metadata": {},
     "output_type": "execute_result"
    }
   ],
   "source": [
    "companies_df[\"iata_approved\"]"
   ]
  },
  {
   "cell_type": "code",
   "execution_count": 15,
   "id": "138c091e-3a31-43be-a72e-bfeb3e83c09e",
   "metadata": {},
   "outputs": [
    {
     "data": {
      "text/html": [
       "<pre style=\"white-space:pre;overflow-x:auto;line-height:normal;font-family:Menlo,'DejaVu Sans Mono',consolas,'Courier New',monospace\"></pre>\n"
      ],
      "text/plain": []
     },
     "metadata": {},
     "output_type": "display_data"
    },
    {
     "data": {
      "text/html": [
       "<div>\n",
       "<style scoped>\n",
       "    .dataframe tbody tr th:only-of-type {\n",
       "        vertical-align: middle;\n",
       "    }\n",
       "\n",
       "    .dataframe tbody tr th {\n",
       "        vertical-align: top;\n",
       "    }\n",
       "\n",
       "    .dataframe thead th {\n",
       "        text-align: right;\n",
       "    }\n",
       "</style>\n",
       "<table border=\"1\" class=\"dataframe\">\n",
       "  <thead>\n",
       "    <tr style=\"text-align: right;\">\n",
       "      <th></th>\n",
       "      <th>id</th>\n",
       "      <th>company_rating</th>\n",
       "      <th>company_location</th>\n",
       "      <th>total_fleet_count</th>\n",
       "      <th>iata_approved</th>\n",
       "    </tr>\n",
       "  </thead>\n",
       "  <tbody>\n",
       "    <tr>\n",
       "      <th>0</th>\n",
       "      <td>3888</td>\n",
       "      <td>100%</td>\n",
       "      <td>Isle of Man</td>\n",
       "      <td>1.0</td>\n",
       "      <td>False</td>\n",
       "    </tr>\n",
       "    <tr>\n",
       "      <th>1</th>\n",
       "      <td>46728</td>\n",
       "      <td>100%</td>\n",
       "      <td>NaN</td>\n",
       "      <td>1.0</td>\n",
       "      <td>False</td>\n",
       "    </tr>\n",
       "    <tr>\n",
       "      <th>2</th>\n",
       "      <td>34618</td>\n",
       "      <td>38%</td>\n",
       "      <td>Isle of Man</td>\n",
       "      <td>1.0</td>\n",
       "      <td>False</td>\n",
       "    </tr>\n",
       "    <tr>\n",
       "      <th>3</th>\n",
       "      <td>28619</td>\n",
       "      <td>100%</td>\n",
       "      <td>Bosnia and Herzegovina</td>\n",
       "      <td>1.0</td>\n",
       "      <td>False</td>\n",
       "    </tr>\n",
       "    <tr>\n",
       "      <th>4</th>\n",
       "      <td>8240</td>\n",
       "      <td>NaN</td>\n",
       "      <td>Chile</td>\n",
       "      <td>1.0</td>\n",
       "      <td>True</td>\n",
       "    </tr>\n",
       "    <tr>\n",
       "      <th>...</th>\n",
       "      <td>...</td>\n",
       "      <td>...</td>\n",
       "      <td>...</td>\n",
       "      <td>...</td>\n",
       "      <td>...</td>\n",
       "    </tr>\n",
       "    <tr>\n",
       "      <th>10014</th>\n",
       "      <td>20213</td>\n",
       "      <td>NaN</td>\n",
       "      <td>Russian Federation</td>\n",
       "      <td>1.0</td>\n",
       "      <td>False</td>\n",
       "    </tr>\n",
       "    <tr>\n",
       "      <th>10015</th>\n",
       "      <td>2235</td>\n",
       "      <td>100%</td>\n",
       "      <td>Guinea</td>\n",
       "      <td>1.0</td>\n",
       "      <td>False</td>\n",
       "    </tr>\n",
       "    <tr>\n",
       "      <th>10016</th>\n",
       "      <td>2353</td>\n",
       "      <td>100%</td>\n",
       "      <td>Senegal</td>\n",
       "      <td>2.0</td>\n",
       "      <td>True</td>\n",
       "    </tr>\n",
       "    <tr>\n",
       "      <th>10017</th>\n",
       "      <td>49772</td>\n",
       "      <td>100%</td>\n",
       "      <td>Jersey</td>\n",
       "      <td>1.0</td>\n",
       "      <td>False</td>\n",
       "    </tr>\n",
       "    <tr>\n",
       "      <th>10018</th>\n",
       "      <td>16548</td>\n",
       "      <td>90%</td>\n",
       "      <td>NaN</td>\n",
       "      <td>2.0</td>\n",
       "      <td>False</td>\n",
       "    </tr>\n",
       "  </tbody>\n",
       "</table>\n",
       "<p>10019 rows × 5 columns</p>\n",
       "</div>"
      ],
      "text/plain": [
       "\n",
       "          id company_rating        company_location  total_fleet_count  \\\n",
       "\u001b[1;36m0\u001b[0m       \u001b[1;36m3888\u001b[0m           \u001b[1;36m100\u001b[0m%             Isle of Man                \u001b[1;36m1.0\u001b[0m   \n",
       "\u001b[1;36m1\u001b[0m      \u001b[1;36m46728\u001b[0m           \u001b[1;36m100\u001b[0m%                     NaN                \u001b[1;36m1.0\u001b[0m   \n",
       "\u001b[1;36m2\u001b[0m      \u001b[1;36m34618\u001b[0m            \u001b[1;36m38\u001b[0m%             Isle of Man                \u001b[1;36m1.0\u001b[0m   \n",
       "\u001b[1;36m3\u001b[0m      \u001b[1;36m28619\u001b[0m           \u001b[1;36m100\u001b[0m%  Bosnia and Herzegovina                \u001b[1;36m1.0\u001b[0m   \n",
       "\u001b[1;36m4\u001b[0m       \u001b[1;36m8240\u001b[0m            NaN                   Chile                \u001b[1;36m1.0\u001b[0m   \n",
       "\u001b[33m...\u001b[0m      \u001b[33m...\u001b[0m            \u001b[33m...\u001b[0m                     \u001b[33m...\u001b[0m                \u001b[33m...\u001b[0m   \n",
       "\u001b[1;36m10014\u001b[0m  \u001b[1;36m20213\u001b[0m            NaN      Russian Federation                \u001b[1;36m1.0\u001b[0m   \n",
       "\u001b[1;36m10015\u001b[0m   \u001b[1;36m2235\u001b[0m           \u001b[1;36m100\u001b[0m%                  Guinea                \u001b[1;36m1.0\u001b[0m   \n",
       "\u001b[1;36m10016\u001b[0m   \u001b[1;36m2353\u001b[0m           \u001b[1;36m100\u001b[0m%                 Senegal                \u001b[1;36m2.0\u001b[0m   \n",
       "\u001b[1;36m10017\u001b[0m  \u001b[1;36m49772\u001b[0m           \u001b[1;36m100\u001b[0m%                  Jersey                \u001b[1;36m1.0\u001b[0m   \n",
       "\u001b[1;36m10018\u001b[0m  \u001b[1;36m16548\u001b[0m            \u001b[1;36m90\u001b[0m%                     NaN                \u001b[1;36m2.0\u001b[0m   \n",
       "\n",
       "       iata_approved  \n",
       "\u001b[1;36m0\u001b[0m              \u001b[3;91mFalse\u001b[0m  \n",
       "\u001b[1;36m1\u001b[0m              \u001b[3;91mFalse\u001b[0m  \n",
       "\u001b[1;36m2\u001b[0m              \u001b[3;91mFalse\u001b[0m  \n",
       "\u001b[1;36m3\u001b[0m              \u001b[3;91mFalse\u001b[0m  \n",
       "\u001b[1;36m4\u001b[0m               \u001b[3;92mTrue\u001b[0m  \n",
       "\u001b[33m...\u001b[0m              \u001b[33m...\u001b[0m  \n",
       "\u001b[1;36m10014\u001b[0m          \u001b[3;91mFalse\u001b[0m  \n",
       "\u001b[1;36m10015\u001b[0m          \u001b[3;91mFalse\u001b[0m  \n",
       "\u001b[1;36m10016\u001b[0m           \u001b[3;92mTrue\u001b[0m  \n",
       "\u001b[1;36m10017\u001b[0m          \u001b[3;91mFalse\u001b[0m  \n",
       "\u001b[1;36m10018\u001b[0m          \u001b[3;91mFalse\u001b[0m  \n",
       "\n",
       "\u001b[1m[\u001b[0m\u001b[1;36m10019\u001b[0m rows x \u001b[1;36m5\u001b[0m columns\u001b[1m]\u001b[0m"
      ]
     },
     "execution_count": 15,
     "metadata": {},
     "output_type": "execute_result"
    }
   ],
   "source": [
    "companies_df"
   ]
  },
  {
   "cell_type": "code",
   "execution_count": null,
   "id": "998057e9-4dd2-40f3-a209-2f16c088f2aa",
   "metadata": {},
   "outputs": [],
   "source": []
  }
 ],
 "metadata": {
  "kernelspec": {
   "display_name": ".venv",
   "language": "python",
   "name": "python3"
  },
  "language_info": {
   "codemirror_mode": {
    "name": "ipython",
    "version": 3
   },
   "file_extension": ".py",
   "mimetype": "text/x-python",
   "name": "python",
   "nbconvert_exporter": "python",
   "pygments_lexer": "ipython3",
   "version": "3.12.5"
  }
 },
 "nbformat": 4,
 "nbformat_minor": 5
}
